{
  "nbformat": 4,
  "nbformat_minor": 0,
  "metadata": {
    "colab": {
      "name": "Milestone 4-Presenting Your Findings",
      "provenance": [],
      "collapsed_sections": []
    },
    "kernelspec": {
      "name": "python3",
      "display_name": "Python 3"
    },
    "language_info": {
      "name": "python"
    }
  },
  "cells": [
    {
      "cell_type": "markdown",
      "metadata": {
        "id": "bWU5lfyzfbTg"
      },
      "source": [
        "#**Milestone 4: Presenting Your Findings (Storytelling)**\n",
        "\n",
        "By: Emer Isau Morales\n",
        "\n",
        "November 23, 2021\n",
        "\n",
        "##**Contents**\n",
        "\n",
        "1. **Questions to Answer / Hypothesis / Approach**\n",
        "2. **Discuss Technical Challenges**\n",
        "3. **Detail: Entity Relationship Diagram (ERD)**\n",
        "4. **Initial Findings**\n",
        "5. **Deeper Analysis**\n",
        "6. **Hypotheses Results**\n",
        "7. **Recommendations**\n",
        "\n",
        "##**Audience**\n",
        "\n",
        "External audience, for my classmates.\n",
        "\n",
        "##1. **Questions to Answer / Hypothesis / Approach**\n",
        "\n",
        "###**Questions to Answer**\n",
        "\n",
        "- How many Peruvians won a gold\n",
        "medal?\n",
        "\n",
        "- Has Cristiano Ronaldo (CR7) won\n",
        "any medals?\n",
        "\n",
        "- Which sporting event gathered\n",
        "the most athletes?\n",
        "\n",
        "- In which year were the most gold\n",
        "medals awarded?\n",
        "\n",
        "- In the 120 years of the Olympic\n",
        "Games, which country's team won\n",
        "the most medals?\n",
        "\n",
        "- Are there more men or women who have won a gold medal?\n",
        "\n",
        "- If the dataset only has events up to the year 2016, how do you predict which medal a new athlete will win?\n",
        "\n",
        "###**Initial Hyphothesis**\n",
        "\n",
        "- **How many Peruvians won a gold medal?**\\\n",
        "   Of course there are Peruvians who won gold medals\n",
        "\n",
        "- **Has Cristiano Ronaldo (CR7) won any medals?**\\\n",
        "I think that CR7 has won a gold medal\n",
        "\n",
        "- **Which sporting event gathered the most athletes?**\\\n",
        "Without a doubt, football is the sporting event that gathers more\n",
        "athletes\n",
        "\n",
        "- **In which year were the most gold medals awarded?**\\\n",
        "I believe that more gold medals were awarded between the years\n",
        "2006 to 2010\n",
        "\n",
        "- **In the 120 years of the Olympic Games, which country's\n",
        "team won the most medals?**\\\n",
        "From my perspective, Poland has more medals\n",
        "\n",
        "- **Are there more men or women who have won a gold medal?**\\\n",
        "There are more male athletes, therefore, I think that men win more medals\n",
        "- **If the dataset only has events up to the year 2016, how do you predict which medal a new athlete will win?**\\\n",
        "I have no idea what will happen, but we will find out using machine learning later.\n",
        "\n",
        "###**Data Analysis Approach**\n",
        "\n",
        "The working environment will be in google\n",
        "colab with the python programming language\n",
        "and sqlite will be used to analyze the data.\n",
        "\n",
        "In the first instance, the files **athlet_events.csv**\n",
        "and **noc_regions.csv** that are related through\n",
        "the NOC column will be loaded. That is, the\n",
        "column exists in both files. Then it will be necessary to remove or replace\n",
        "the NA values for better analysis.\n",
        "\n",
        "Finally, to answer the questions posed,\n",
        "statistical inference and graphic visualization\n",
        "will be used to determine if there is a\n",
        "relationship between the columns.\n",
        "\n",
        "##2. **Discuss Technical Challenges**\n",
        "\n",
        "- Google Colab with Python and SQLite was used for all analyzes.\n",
        "\n",
        "- Various python software packages were used such as **pandas**, **sqlite3**, **numpy**, **matplotlib**, **sklearn**, etc.\n",
        "\n",
        "- The sqlite3 package gave no results when it was used to calculate the SUM of the NA values. Therefore, another software called DB Browser for SQLite was used to perform the calculation\n",
        "\n",
        "##3. **Detail: Entity Relationship Diagram (ERD)**\n",
        "<img src=\"https://raw.githubusercontent.com/Emermv/sql-for-data-science/master/olympics-erd.png\">\n",
        "\n",
        "##4. **Initial Findings**\n",
        "\n",
        "###**Creating a olympics database**\n",
        "Sqlite is a lightweight database that can be started as an empty text file. You can create the file with touch **olympics.db** or with this equivalent Python code:"
      ]
    },
    {
      "cell_type": "code",
      "metadata": {
        "id": "SDU0Z-dJqjV3"
      },
      "source": [
        "from pathlib import Path\n",
        "import os\n",
        "\n",
        "db_name='olympics.db'\n",
        "if os.path.exists(db_name):\n",
        "  os.remove(db_name)\n",
        "  \n",
        "Path(db_name).touch()"
      ],
      "execution_count": 1,
      "outputs": []
    },
    {
      "cell_type": "markdown",
      "metadata": {
        "id": "QnAosAOKq4En"
      },
      "source": [
        "###**Creating regions table**\n"
      ]
    },
    {
      "cell_type": "code",
      "metadata": {
        "colab": {
          "base_uri": "https://localhost:8080/",
          "height": 143
        },
        "id": "p8u6OQuuq2xD",
        "outputId": "ee2e96db-6cf0-4c8f-aef0-97a063c772cb"
      },
      "source": [
        "import sqlite3\n",
        "import pandas as pd\n",
        "\n",
        "conn = sqlite3.connect('olympics.db')\n",
        "cursor = conn.cursor()\n",
        "\n",
        "cursor.execute('''create table regions(\n",
        " NOC    varchar(45),\n",
        " region varchar(150),\n",
        " notes text\n",
        "  ) ''')\n",
        "\n",
        "pd.read_sql(\"pragma table_info('regions')\",conn)"
      ],
      "execution_count": 2,
      "outputs": [
        {
          "output_type": "execute_result",
          "data": {
            "text/html": [
              "<div>\n",
              "<style scoped>\n",
              "    .dataframe tbody tr th:only-of-type {\n",
              "        vertical-align: middle;\n",
              "    }\n",
              "\n",
              "    .dataframe tbody tr th {\n",
              "        vertical-align: top;\n",
              "    }\n",
              "\n",
              "    .dataframe thead th {\n",
              "        text-align: right;\n",
              "    }\n",
              "</style>\n",
              "<table border=\"1\" class=\"dataframe\">\n",
              "  <thead>\n",
              "    <tr style=\"text-align: right;\">\n",
              "      <th></th>\n",
              "      <th>cid</th>\n",
              "      <th>name</th>\n",
              "      <th>type</th>\n",
              "      <th>notnull</th>\n",
              "      <th>dflt_value</th>\n",
              "      <th>pk</th>\n",
              "    </tr>\n",
              "  </thead>\n",
              "  <tbody>\n",
              "    <tr>\n",
              "      <th>0</th>\n",
              "      <td>0</td>\n",
              "      <td>NOC</td>\n",
              "      <td>varchar(45)</td>\n",
              "      <td>0</td>\n",
              "      <td>None</td>\n",
              "      <td>0</td>\n",
              "    </tr>\n",
              "    <tr>\n",
              "      <th>1</th>\n",
              "      <td>1</td>\n",
              "      <td>region</td>\n",
              "      <td>varchar(150)</td>\n",
              "      <td>0</td>\n",
              "      <td>None</td>\n",
              "      <td>0</td>\n",
              "    </tr>\n",
              "    <tr>\n",
              "      <th>2</th>\n",
              "      <td>2</td>\n",
              "      <td>notes</td>\n",
              "      <td>text</td>\n",
              "      <td>0</td>\n",
              "      <td>None</td>\n",
              "      <td>0</td>\n",
              "    </tr>\n",
              "  </tbody>\n",
              "</table>\n",
              "</div>"
            ],
            "text/plain": [
              "   cid    name          type  notnull dflt_value  pk\n",
              "0    0     NOC   varchar(45)        0       None   0\n",
              "1    1  region  varchar(150)        0       None   0\n",
              "2    2   notes          text        0       None   0"
            ]
          },
          "metadata": {},
          "execution_count": 2
        }
      ]
    },
    {
      "cell_type": "code",
      "metadata": {
        "colab": {
          "base_uri": "https://localhost:8080/",
          "height": 520
        },
        "id": "UvnXV77QkQW2",
        "outputId": "2acbc8e3-bdc7-4a09-ba7b-8a172761f08a"
      },
      "source": [
        "cursor.execute('''create table athletes(\n",
        "  ID int,\n",
        "  Name varchar(250),\n",
        "  Sex char(1),\n",
        "  Age float,\n",
        "  Height  float,\n",
        " Weight float,\n",
        " Team    varchar(100),\n",
        " NOC    varchar(45),\n",
        "Games   varchar(100), \n",
        "Year  int,\n",
        "Season  varchar(45), \n",
        "City  varchar(100), \n",
        "Sport varchar(100),\n",
        "Event varchar(100), \n",
        " Medal varchar(45),\n",
        " foreign key(NOC) references regions(NOC)\n",
        "  ) ''')\n",
        "\n",
        "pd.read_sql(\"pragma table_info('athletes')\",conn)"
      ],
      "execution_count": 3,
      "outputs": [
        {
          "output_type": "execute_result",
          "data": {
            "text/html": [
              "<div>\n",
              "<style scoped>\n",
              "    .dataframe tbody tr th:only-of-type {\n",
              "        vertical-align: middle;\n",
              "    }\n",
              "\n",
              "    .dataframe tbody tr th {\n",
              "        vertical-align: top;\n",
              "    }\n",
              "\n",
              "    .dataframe thead th {\n",
              "        text-align: right;\n",
              "    }\n",
              "</style>\n",
              "<table border=\"1\" class=\"dataframe\">\n",
              "  <thead>\n",
              "    <tr style=\"text-align: right;\">\n",
              "      <th></th>\n",
              "      <th>cid</th>\n",
              "      <th>name</th>\n",
              "      <th>type</th>\n",
              "      <th>notnull</th>\n",
              "      <th>dflt_value</th>\n",
              "      <th>pk</th>\n",
              "    </tr>\n",
              "  </thead>\n",
              "  <tbody>\n",
              "    <tr>\n",
              "      <th>0</th>\n",
              "      <td>0</td>\n",
              "      <td>ID</td>\n",
              "      <td>int</td>\n",
              "      <td>0</td>\n",
              "      <td>None</td>\n",
              "      <td>0</td>\n",
              "    </tr>\n",
              "    <tr>\n",
              "      <th>1</th>\n",
              "      <td>1</td>\n",
              "      <td>Name</td>\n",
              "      <td>varchar(250)</td>\n",
              "      <td>0</td>\n",
              "      <td>None</td>\n",
              "      <td>0</td>\n",
              "    </tr>\n",
              "    <tr>\n",
              "      <th>2</th>\n",
              "      <td>2</td>\n",
              "      <td>Sex</td>\n",
              "      <td>char(1)</td>\n",
              "      <td>0</td>\n",
              "      <td>None</td>\n",
              "      <td>0</td>\n",
              "    </tr>\n",
              "    <tr>\n",
              "      <th>3</th>\n",
              "      <td>3</td>\n",
              "      <td>Age</td>\n",
              "      <td>float</td>\n",
              "      <td>0</td>\n",
              "      <td>None</td>\n",
              "      <td>0</td>\n",
              "    </tr>\n",
              "    <tr>\n",
              "      <th>4</th>\n",
              "      <td>4</td>\n",
              "      <td>Height</td>\n",
              "      <td>float</td>\n",
              "      <td>0</td>\n",
              "      <td>None</td>\n",
              "      <td>0</td>\n",
              "    </tr>\n",
              "    <tr>\n",
              "      <th>5</th>\n",
              "      <td>5</td>\n",
              "      <td>Weight</td>\n",
              "      <td>float</td>\n",
              "      <td>0</td>\n",
              "      <td>None</td>\n",
              "      <td>0</td>\n",
              "    </tr>\n",
              "    <tr>\n",
              "      <th>6</th>\n",
              "      <td>6</td>\n",
              "      <td>Team</td>\n",
              "      <td>varchar(100)</td>\n",
              "      <td>0</td>\n",
              "      <td>None</td>\n",
              "      <td>0</td>\n",
              "    </tr>\n",
              "    <tr>\n",
              "      <th>7</th>\n",
              "      <td>7</td>\n",
              "      <td>NOC</td>\n",
              "      <td>varchar(45)</td>\n",
              "      <td>0</td>\n",
              "      <td>None</td>\n",
              "      <td>0</td>\n",
              "    </tr>\n",
              "    <tr>\n",
              "      <th>8</th>\n",
              "      <td>8</td>\n",
              "      <td>Games</td>\n",
              "      <td>varchar(100)</td>\n",
              "      <td>0</td>\n",
              "      <td>None</td>\n",
              "      <td>0</td>\n",
              "    </tr>\n",
              "    <tr>\n",
              "      <th>9</th>\n",
              "      <td>9</td>\n",
              "      <td>Year</td>\n",
              "      <td>int</td>\n",
              "      <td>0</td>\n",
              "      <td>None</td>\n",
              "      <td>0</td>\n",
              "    </tr>\n",
              "    <tr>\n",
              "      <th>10</th>\n",
              "      <td>10</td>\n",
              "      <td>Season</td>\n",
              "      <td>varchar(45)</td>\n",
              "      <td>0</td>\n",
              "      <td>None</td>\n",
              "      <td>0</td>\n",
              "    </tr>\n",
              "    <tr>\n",
              "      <th>11</th>\n",
              "      <td>11</td>\n",
              "      <td>City</td>\n",
              "      <td>varchar(100)</td>\n",
              "      <td>0</td>\n",
              "      <td>None</td>\n",
              "      <td>0</td>\n",
              "    </tr>\n",
              "    <tr>\n",
              "      <th>12</th>\n",
              "      <td>12</td>\n",
              "      <td>Sport</td>\n",
              "      <td>varchar(100)</td>\n",
              "      <td>0</td>\n",
              "      <td>None</td>\n",
              "      <td>0</td>\n",
              "    </tr>\n",
              "    <tr>\n",
              "      <th>13</th>\n",
              "      <td>13</td>\n",
              "      <td>Event</td>\n",
              "      <td>varchar(100)</td>\n",
              "      <td>0</td>\n",
              "      <td>None</td>\n",
              "      <td>0</td>\n",
              "    </tr>\n",
              "    <tr>\n",
              "      <th>14</th>\n",
              "      <td>14</td>\n",
              "      <td>Medal</td>\n",
              "      <td>varchar(45)</td>\n",
              "      <td>0</td>\n",
              "      <td>None</td>\n",
              "      <td>0</td>\n",
              "    </tr>\n",
              "  </tbody>\n",
              "</table>\n",
              "</div>"
            ],
            "text/plain": [
              "    cid    name          type  notnull dflt_value  pk\n",
              "0     0      ID           int        0       None   0\n",
              "1     1    Name  varchar(250)        0       None   0\n",
              "2     2     Sex       char(1)        0       None   0\n",
              "3     3     Age         float        0       None   0\n",
              "4     4  Height         float        0       None   0\n",
              "5     5  Weight         float        0       None   0\n",
              "6     6    Team  varchar(100)        0       None   0\n",
              "7     7     NOC   varchar(45)        0       None   0\n",
              "8     8   Games  varchar(100)        0       None   0\n",
              "9     9    Year           int        0       None   0\n",
              "10   10  Season   varchar(45)        0       None   0\n",
              "11   11    City  varchar(100)        0       None   0\n",
              "12   12   Sport  varchar(100)        0       None   0\n",
              "13   13   Event  varchar(100)        0       None   0\n",
              "14   14   Medal   varchar(45)        0       None   0"
            ]
          },
          "metadata": {},
          "execution_count": 3
        }
      ]
    },
    {
      "cell_type": "markdown",
      "metadata": {
        "id": "b7BCJNgX3frm"
      },
      "source": [
        "###**Import data**"
      ]
    },
    {
      "cell_type": "code",
      "metadata": {
        "colab": {
          "base_uri": "https://localhost:8080/",
          "height": 675
        },
        "id": "ILBwUNo1tuey",
        "outputId": "add9a1a4-e1a7-4fc2-db17-e0cda758be75"
      },
      "source": [
        "url = 'https://raw.githubusercontent.com/Emermv/sql-for-data-science/master/athlete_events.csv'\n",
        "athlete_events = pd.read_csv(url)\n",
        "athlete_events.info()\n",
        "athlete_events.head(5)"
      ],
      "execution_count": 7,
      "outputs": [
        {
          "output_type": "stream",
          "name": "stdout",
          "text": [
            "<class 'pandas.core.frame.DataFrame'>\n",
            "RangeIndex: 271116 entries, 0 to 271115\n",
            "Data columns (total 15 columns):\n",
            " #   Column  Non-Null Count   Dtype  \n",
            "---  ------  --------------   -----  \n",
            " 0   ID      271116 non-null  int64  \n",
            " 1   Name    271116 non-null  object \n",
            " 2   Sex     271116 non-null  object \n",
            " 3   Age     261642 non-null  float64\n",
            " 4   Height  210945 non-null  float64\n",
            " 5   Weight  208241 non-null  float64\n",
            " 6   Team    271116 non-null  object \n",
            " 7   NOC     271116 non-null  object \n",
            " 8   Games   271116 non-null  object \n",
            " 9   Year    271116 non-null  int64  \n",
            " 10  Season  271116 non-null  object \n",
            " 11  City    271116 non-null  object \n",
            " 12  Sport   271116 non-null  object \n",
            " 13  Event   271116 non-null  object \n",
            " 14  Medal   39783 non-null   object \n",
            "dtypes: float64(3), int64(2), object(10)\n",
            "memory usage: 31.0+ MB\n"
          ]
        },
        {
          "output_type": "execute_result",
          "data": {
            "text/html": [
              "<div>\n",
              "<style scoped>\n",
              "    .dataframe tbody tr th:only-of-type {\n",
              "        vertical-align: middle;\n",
              "    }\n",
              "\n",
              "    .dataframe tbody tr th {\n",
              "        vertical-align: top;\n",
              "    }\n",
              "\n",
              "    .dataframe thead th {\n",
              "        text-align: right;\n",
              "    }\n",
              "</style>\n",
              "<table border=\"1\" class=\"dataframe\">\n",
              "  <thead>\n",
              "    <tr style=\"text-align: right;\">\n",
              "      <th></th>\n",
              "      <th>ID</th>\n",
              "      <th>Name</th>\n",
              "      <th>Sex</th>\n",
              "      <th>Age</th>\n",
              "      <th>Height</th>\n",
              "      <th>Weight</th>\n",
              "      <th>Team</th>\n",
              "      <th>NOC</th>\n",
              "      <th>Games</th>\n",
              "      <th>Year</th>\n",
              "      <th>Season</th>\n",
              "      <th>City</th>\n",
              "      <th>Sport</th>\n",
              "      <th>Event</th>\n",
              "      <th>Medal</th>\n",
              "    </tr>\n",
              "  </thead>\n",
              "  <tbody>\n",
              "    <tr>\n",
              "      <th>0</th>\n",
              "      <td>1</td>\n",
              "      <td>A Dijiang</td>\n",
              "      <td>M</td>\n",
              "      <td>24.0</td>\n",
              "      <td>180.0</td>\n",
              "      <td>80.0</td>\n",
              "      <td>China</td>\n",
              "      <td>CHN</td>\n",
              "      <td>1992 Summer</td>\n",
              "      <td>1992</td>\n",
              "      <td>Summer</td>\n",
              "      <td>Barcelona</td>\n",
              "      <td>Basketball</td>\n",
              "      <td>Basketball Men's Basketball</td>\n",
              "      <td>NaN</td>\n",
              "    </tr>\n",
              "    <tr>\n",
              "      <th>1</th>\n",
              "      <td>2</td>\n",
              "      <td>A Lamusi</td>\n",
              "      <td>M</td>\n",
              "      <td>23.0</td>\n",
              "      <td>170.0</td>\n",
              "      <td>60.0</td>\n",
              "      <td>China</td>\n",
              "      <td>CHN</td>\n",
              "      <td>2012 Summer</td>\n",
              "      <td>2012</td>\n",
              "      <td>Summer</td>\n",
              "      <td>London</td>\n",
              "      <td>Judo</td>\n",
              "      <td>Judo Men's Extra-Lightweight</td>\n",
              "      <td>NaN</td>\n",
              "    </tr>\n",
              "    <tr>\n",
              "      <th>2</th>\n",
              "      <td>3</td>\n",
              "      <td>Gunnar Nielsen Aaby</td>\n",
              "      <td>M</td>\n",
              "      <td>24.0</td>\n",
              "      <td>NaN</td>\n",
              "      <td>NaN</td>\n",
              "      <td>Denmark</td>\n",
              "      <td>DEN</td>\n",
              "      <td>1920 Summer</td>\n",
              "      <td>1920</td>\n",
              "      <td>Summer</td>\n",
              "      <td>Antwerpen</td>\n",
              "      <td>Football</td>\n",
              "      <td>Football Men's Football</td>\n",
              "      <td>NaN</td>\n",
              "    </tr>\n",
              "    <tr>\n",
              "      <th>3</th>\n",
              "      <td>4</td>\n",
              "      <td>Edgar Lindenau Aabye</td>\n",
              "      <td>M</td>\n",
              "      <td>34.0</td>\n",
              "      <td>NaN</td>\n",
              "      <td>NaN</td>\n",
              "      <td>Denmark/Sweden</td>\n",
              "      <td>DEN</td>\n",
              "      <td>1900 Summer</td>\n",
              "      <td>1900</td>\n",
              "      <td>Summer</td>\n",
              "      <td>Paris</td>\n",
              "      <td>Tug-Of-War</td>\n",
              "      <td>Tug-Of-War Men's Tug-Of-War</td>\n",
              "      <td>Gold</td>\n",
              "    </tr>\n",
              "    <tr>\n",
              "      <th>4</th>\n",
              "      <td>5</td>\n",
              "      <td>Christine Jacoba Aaftink</td>\n",
              "      <td>F</td>\n",
              "      <td>21.0</td>\n",
              "      <td>185.0</td>\n",
              "      <td>82.0</td>\n",
              "      <td>Netherlands</td>\n",
              "      <td>NED</td>\n",
              "      <td>1988 Winter</td>\n",
              "      <td>1988</td>\n",
              "      <td>Winter</td>\n",
              "      <td>Calgary</td>\n",
              "      <td>Speed Skating</td>\n",
              "      <td>Speed Skating Women's 500 metres</td>\n",
              "      <td>NaN</td>\n",
              "    </tr>\n",
              "  </tbody>\n",
              "</table>\n",
              "</div>"
            ],
            "text/plain": [
              "   ID                      Name  ...                             Event  Medal\n",
              "0   1                 A Dijiang  ...       Basketball Men's Basketball    NaN\n",
              "1   2                  A Lamusi  ...      Judo Men's Extra-Lightweight    NaN\n",
              "2   3       Gunnar Nielsen Aaby  ...           Football Men's Football    NaN\n",
              "3   4      Edgar Lindenau Aabye  ...       Tug-Of-War Men's Tug-Of-War   Gold\n",
              "4   5  Christine Jacoba Aaftink  ...  Speed Skating Women's 500 metres    NaN\n",
              "\n",
              "[5 rows x 15 columns]"
            ]
          },
          "metadata": {},
          "execution_count": 7
        }
      ]
    },
    {
      "cell_type": "code",
      "metadata": {
        "colab": {
          "base_uri": "https://localhost:8080/",
          "height": 380
        },
        "id": "b_E6R9kdNIWl",
        "outputId": "a896b078-4529-48a9-f129-80b01f53be6a"
      },
      "source": [
        "regions_url = 'https://raw.githubusercontent.com/Emermv/sql-for-data-science/master/noc_regions.csv'\n",
        "regions = pd.read_csv(regions_url)\n",
        "regions.info()\n",
        "regions.head(5)"
      ],
      "execution_count": 8,
      "outputs": [
        {
          "output_type": "stream",
          "name": "stdout",
          "text": [
            "<class 'pandas.core.frame.DataFrame'>\n",
            "RangeIndex: 230 entries, 0 to 229\n",
            "Data columns (total 3 columns):\n",
            " #   Column  Non-Null Count  Dtype \n",
            "---  ------  --------------  ----- \n",
            " 0   NOC     230 non-null    object\n",
            " 1   region  227 non-null    object\n",
            " 2   notes   21 non-null     object\n",
            "dtypes: object(3)\n",
            "memory usage: 5.5+ KB\n"
          ]
        },
        {
          "output_type": "execute_result",
          "data": {
            "text/html": [
              "<div>\n",
              "<style scoped>\n",
              "    .dataframe tbody tr th:only-of-type {\n",
              "        vertical-align: middle;\n",
              "    }\n",
              "\n",
              "    .dataframe tbody tr th {\n",
              "        vertical-align: top;\n",
              "    }\n",
              "\n",
              "    .dataframe thead th {\n",
              "        text-align: right;\n",
              "    }\n",
              "</style>\n",
              "<table border=\"1\" class=\"dataframe\">\n",
              "  <thead>\n",
              "    <tr style=\"text-align: right;\">\n",
              "      <th></th>\n",
              "      <th>NOC</th>\n",
              "      <th>region</th>\n",
              "      <th>notes</th>\n",
              "    </tr>\n",
              "  </thead>\n",
              "  <tbody>\n",
              "    <tr>\n",
              "      <th>0</th>\n",
              "      <td>AFG</td>\n",
              "      <td>Afghanistan</td>\n",
              "      <td>NaN</td>\n",
              "    </tr>\n",
              "    <tr>\n",
              "      <th>1</th>\n",
              "      <td>AHO</td>\n",
              "      <td>Curacao</td>\n",
              "      <td>Netherlands Antilles</td>\n",
              "    </tr>\n",
              "    <tr>\n",
              "      <th>2</th>\n",
              "      <td>ALB</td>\n",
              "      <td>Albania</td>\n",
              "      <td>NaN</td>\n",
              "    </tr>\n",
              "    <tr>\n",
              "      <th>3</th>\n",
              "      <td>ALG</td>\n",
              "      <td>Algeria</td>\n",
              "      <td>NaN</td>\n",
              "    </tr>\n",
              "    <tr>\n",
              "      <th>4</th>\n",
              "      <td>AND</td>\n",
              "      <td>Andorra</td>\n",
              "      <td>NaN</td>\n",
              "    </tr>\n",
              "  </tbody>\n",
              "</table>\n",
              "</div>"
            ],
            "text/plain": [
              "   NOC       region                 notes\n",
              "0  AFG  Afghanistan                   NaN\n",
              "1  AHO      Curacao  Netherlands Antilles\n",
              "2  ALB      Albania                   NaN\n",
              "3  ALG      Algeria                   NaN\n",
              "4  AND      Andorra                   NaN"
            ]
          },
          "metadata": {},
          "execution_count": 8
        }
      ]
    },
    {
      "cell_type": "markdown",
      "metadata": {
        "id": "k5nmcd8T4AP8"
      },
      "source": [
        "###**Write the data to a sqlite table**"
      ]
    },
    {
      "cell_type": "code",
      "metadata": {
        "id": "dVbBUVGFOtEI"
      },
      "source": [
        "regions.to_sql('regions', conn, if_exists='append', index = False)"
      ],
      "execution_count": 9,
      "outputs": []
    },
    {
      "cell_type": "code",
      "metadata": {
        "id": "-aRqQqnNtT0s"
      },
      "source": [
        "athlete_events.to_sql('athletes', conn, if_exists='append', index = False)"
      ],
      "execution_count": 10,
      "outputs": []
    },
    {
      "cell_type": "markdown",
      "metadata": {
        "id": "CsFQ_xjB6C3x"
      },
      "source": [
        "###**Preview data**"
      ]
    },
    {
      "cell_type": "code",
      "metadata": {
        "colab": {
          "base_uri": "https://localhost:8080/",
          "height": 206
        },
        "id": "Cy4OQn7WSYKj",
        "outputId": "664fe301-ed4e-4002-ab87-0aedcfec0881"
      },
      "source": [
        "pd.read_sql(\"select * from regions limit 5\",conn)"
      ],
      "execution_count": 32,
      "outputs": [
        {
          "output_type": "execute_result",
          "data": {
            "text/html": [
              "<div>\n",
              "<style scoped>\n",
              "    .dataframe tbody tr th:only-of-type {\n",
              "        vertical-align: middle;\n",
              "    }\n",
              "\n",
              "    .dataframe tbody tr th {\n",
              "        vertical-align: top;\n",
              "    }\n",
              "\n",
              "    .dataframe thead th {\n",
              "        text-align: right;\n",
              "    }\n",
              "</style>\n",
              "<table border=\"1\" class=\"dataframe\">\n",
              "  <thead>\n",
              "    <tr style=\"text-align: right;\">\n",
              "      <th></th>\n",
              "      <th>NOC</th>\n",
              "      <th>region</th>\n",
              "      <th>notes</th>\n",
              "    </tr>\n",
              "  </thead>\n",
              "  <tbody>\n",
              "    <tr>\n",
              "      <th>0</th>\n",
              "      <td>AFG</td>\n",
              "      <td>Afghanistan</td>\n",
              "      <td>None</td>\n",
              "    </tr>\n",
              "    <tr>\n",
              "      <th>1</th>\n",
              "      <td>AHO</td>\n",
              "      <td>Curacao</td>\n",
              "      <td>Netherlands Antilles</td>\n",
              "    </tr>\n",
              "    <tr>\n",
              "      <th>2</th>\n",
              "      <td>ALB</td>\n",
              "      <td>Albania</td>\n",
              "      <td>None</td>\n",
              "    </tr>\n",
              "    <tr>\n",
              "      <th>3</th>\n",
              "      <td>ALG</td>\n",
              "      <td>Algeria</td>\n",
              "      <td>None</td>\n",
              "    </tr>\n",
              "    <tr>\n",
              "      <th>4</th>\n",
              "      <td>AND</td>\n",
              "      <td>Andorra</td>\n",
              "      <td>None</td>\n",
              "    </tr>\n",
              "  </tbody>\n",
              "</table>\n",
              "</div>"
            ],
            "text/plain": [
              "   NOC       region                 notes\n",
              "0  AFG  Afghanistan                  None\n",
              "1  AHO      Curacao  Netherlands Antilles\n",
              "2  ALB      Albania                  None\n",
              "3  ALG      Algeria                  None\n",
              "4  AND      Andorra                  None"
            ]
          },
          "metadata": {},
          "execution_count": 32
        }
      ]
    },
    {
      "cell_type": "code",
      "metadata": {
        "colab": {
          "base_uri": "https://localhost:8080/",
          "height": 293
        },
        "id": "fEHkBcnAQsV_",
        "outputId": "b4fe0ca3-c403-41f9-bbab-8813460d5196"
      },
      "source": [
        "pd.read_sql(\"select * from athletes  limit 5\",conn)"
      ],
      "execution_count": 31,
      "outputs": [
        {
          "output_type": "execute_result",
          "data": {
            "text/html": [
              "<div>\n",
              "<style scoped>\n",
              "    .dataframe tbody tr th:only-of-type {\n",
              "        vertical-align: middle;\n",
              "    }\n",
              "\n",
              "    .dataframe tbody tr th {\n",
              "        vertical-align: top;\n",
              "    }\n",
              "\n",
              "    .dataframe thead th {\n",
              "        text-align: right;\n",
              "    }\n",
              "</style>\n",
              "<table border=\"1\" class=\"dataframe\">\n",
              "  <thead>\n",
              "    <tr style=\"text-align: right;\">\n",
              "      <th></th>\n",
              "      <th>ID</th>\n",
              "      <th>Name</th>\n",
              "      <th>Sex</th>\n",
              "      <th>Age</th>\n",
              "      <th>Height</th>\n",
              "      <th>Weight</th>\n",
              "      <th>Team</th>\n",
              "      <th>NOC</th>\n",
              "      <th>Games</th>\n",
              "      <th>Year</th>\n",
              "      <th>Season</th>\n",
              "      <th>City</th>\n",
              "      <th>Sport</th>\n",
              "      <th>Event</th>\n",
              "      <th>Medal</th>\n",
              "    </tr>\n",
              "  </thead>\n",
              "  <tbody>\n",
              "    <tr>\n",
              "      <th>0</th>\n",
              "      <td>1</td>\n",
              "      <td>A Dijiang</td>\n",
              "      <td>M</td>\n",
              "      <td>24.0</td>\n",
              "      <td>180.0</td>\n",
              "      <td>80.0</td>\n",
              "      <td>China</td>\n",
              "      <td>CHN</td>\n",
              "      <td>1992 Summer</td>\n",
              "      <td>1992</td>\n",
              "      <td>Summer</td>\n",
              "      <td>Barcelona</td>\n",
              "      <td>Basketball</td>\n",
              "      <td>Basketball Men's Basketball</td>\n",
              "      <td>None</td>\n",
              "    </tr>\n",
              "    <tr>\n",
              "      <th>1</th>\n",
              "      <td>2</td>\n",
              "      <td>A Lamusi</td>\n",
              "      <td>M</td>\n",
              "      <td>23.0</td>\n",
              "      <td>170.0</td>\n",
              "      <td>60.0</td>\n",
              "      <td>China</td>\n",
              "      <td>CHN</td>\n",
              "      <td>2012 Summer</td>\n",
              "      <td>2012</td>\n",
              "      <td>Summer</td>\n",
              "      <td>London</td>\n",
              "      <td>Judo</td>\n",
              "      <td>Judo Men's Extra-Lightweight</td>\n",
              "      <td>None</td>\n",
              "    </tr>\n",
              "    <tr>\n",
              "      <th>2</th>\n",
              "      <td>3</td>\n",
              "      <td>Gunnar Nielsen Aaby</td>\n",
              "      <td>M</td>\n",
              "      <td>24.0</td>\n",
              "      <td>NaN</td>\n",
              "      <td>NaN</td>\n",
              "      <td>Denmark</td>\n",
              "      <td>DEN</td>\n",
              "      <td>1920 Summer</td>\n",
              "      <td>1920</td>\n",
              "      <td>Summer</td>\n",
              "      <td>Antwerpen</td>\n",
              "      <td>Football</td>\n",
              "      <td>Football Men's Football</td>\n",
              "      <td>None</td>\n",
              "    </tr>\n",
              "    <tr>\n",
              "      <th>3</th>\n",
              "      <td>4</td>\n",
              "      <td>Edgar Lindenau Aabye</td>\n",
              "      <td>M</td>\n",
              "      <td>34.0</td>\n",
              "      <td>NaN</td>\n",
              "      <td>NaN</td>\n",
              "      <td>Denmark/Sweden</td>\n",
              "      <td>DEN</td>\n",
              "      <td>1900 Summer</td>\n",
              "      <td>1900</td>\n",
              "      <td>Summer</td>\n",
              "      <td>Paris</td>\n",
              "      <td>Tug-Of-War</td>\n",
              "      <td>Tug-Of-War Men's Tug-Of-War</td>\n",
              "      <td>Gold</td>\n",
              "    </tr>\n",
              "    <tr>\n",
              "      <th>4</th>\n",
              "      <td>5</td>\n",
              "      <td>Christine Jacoba Aaftink</td>\n",
              "      <td>F</td>\n",
              "      <td>21.0</td>\n",
              "      <td>185.0</td>\n",
              "      <td>82.0</td>\n",
              "      <td>Netherlands</td>\n",
              "      <td>NED</td>\n",
              "      <td>1988 Winter</td>\n",
              "      <td>1988</td>\n",
              "      <td>Winter</td>\n",
              "      <td>Calgary</td>\n",
              "      <td>Speed Skating</td>\n",
              "      <td>Speed Skating Women's 500 metres</td>\n",
              "      <td>None</td>\n",
              "    </tr>\n",
              "  </tbody>\n",
              "</table>\n",
              "</div>"
            ],
            "text/plain": [
              "   ID                      Name  ...                             Event  Medal\n",
              "0   1                 A Dijiang  ...       Basketball Men's Basketball   None\n",
              "1   2                  A Lamusi  ...      Judo Men's Extra-Lightweight   None\n",
              "2   3       Gunnar Nielsen Aaby  ...           Football Men's Football   None\n",
              "3   4      Edgar Lindenau Aabye  ...       Tug-Of-War Men's Tug-Of-War   Gold\n",
              "4   5  Christine Jacoba Aaftink  ...  Speed Skating Women's 500 metres   None\n",
              "\n",
              "[5 rows x 15 columns]"
            ]
          },
          "metadata": {},
          "execution_count": 31
        }
      ]
    },
    {
      "cell_type": "markdown",
      "metadata": {
        "id": "mc-tGFraI0gQ"
      },
      "source": [
        "###**Descriptive statistics**\n",
        "Descriptive statistical analyzes were carried out on some of the variables for a better understanding of the distributions. Some of the variables include:\n",
        "\n",
        "- Age\n",
        "- Height\n",
        "- Weight"
      ]
    },
    {
      "cell_type": "code",
      "metadata": {
        "colab": {
          "base_uri": "https://localhost:8080/",
          "height": 300
        },
        "id": "ACWQMK8gc0KU",
        "outputId": "662d88c7-7c8f-4b9e-8897-a2c2be5c4096"
      },
      "source": [
        "descriptive_statistical=pd.read_sql(\"\"\"select \n",
        "round(Age,0) as Age,\n",
        "round(Height,0) as Height,\n",
        "round(Weight,0) as Weight\n",
        "from athletes where\n",
        "Age is not null\n",
        "and Height is not null\n",
        "and Weight is not null\"\"\",conn)\n",
        "descriptive_statistical.describe()"
      ],
      "execution_count": 18,
      "outputs": [
        {
          "output_type": "execute_result",
          "data": {
            "text/html": [
              "<div>\n",
              "<style scoped>\n",
              "    .dataframe tbody tr th:only-of-type {\n",
              "        vertical-align: middle;\n",
              "    }\n",
              "\n",
              "    .dataframe tbody tr th {\n",
              "        vertical-align: top;\n",
              "    }\n",
              "\n",
              "    .dataframe thead th {\n",
              "        text-align: right;\n",
              "    }\n",
              "</style>\n",
              "<table border=\"1\" class=\"dataframe\">\n",
              "  <thead>\n",
              "    <tr style=\"text-align: right;\">\n",
              "      <th></th>\n",
              "      <th>Age</th>\n",
              "      <th>Height</th>\n",
              "      <th>Weight</th>\n",
              "    </tr>\n",
              "  </thead>\n",
              "  <tbody>\n",
              "    <tr>\n",
              "      <th>count</th>\n",
              "      <td>206165.000000</td>\n",
              "      <td>206165.000000</td>\n",
              "      <td>206165.000000</td>\n",
              "    </tr>\n",
              "    <tr>\n",
              "      <th>mean</th>\n",
              "      <td>25.055509</td>\n",
              "      <td>175.371950</td>\n",
              "      <td>70.690670</td>\n",
              "    </tr>\n",
              "    <tr>\n",
              "      <th>std</th>\n",
              "      <td>5.483096</td>\n",
              "      <td>10.546088</td>\n",
              "      <td>14.341004</td>\n",
              "    </tr>\n",
              "    <tr>\n",
              "      <th>min</th>\n",
              "      <td>11.000000</td>\n",
              "      <td>127.000000</td>\n",
              "      <td>25.000000</td>\n",
              "    </tr>\n",
              "    <tr>\n",
              "      <th>25%</th>\n",
              "      <td>21.000000</td>\n",
              "      <td>168.000000</td>\n",
              "      <td>60.000000</td>\n",
              "    </tr>\n",
              "    <tr>\n",
              "      <th>50%</th>\n",
              "      <td>24.000000</td>\n",
              "      <td>175.000000</td>\n",
              "      <td>70.000000</td>\n",
              "    </tr>\n",
              "    <tr>\n",
              "      <th>75%</th>\n",
              "      <td>28.000000</td>\n",
              "      <td>183.000000</td>\n",
              "      <td>79.000000</td>\n",
              "    </tr>\n",
              "    <tr>\n",
              "      <th>max</th>\n",
              "      <td>71.000000</td>\n",
              "      <td>226.000000</td>\n",
              "      <td>214.000000</td>\n",
              "    </tr>\n",
              "  </tbody>\n",
              "</table>\n",
              "</div>"
            ],
            "text/plain": [
              "                 Age         Height         Weight\n",
              "count  206165.000000  206165.000000  206165.000000\n",
              "mean       25.055509     175.371950      70.690670\n",
              "std         5.483096      10.546088      14.341004\n",
              "min        11.000000     127.000000      25.000000\n",
              "25%        21.000000     168.000000      60.000000\n",
              "50%        24.000000     175.000000      70.000000\n",
              "75%        28.000000     183.000000      79.000000\n",
              "max        71.000000     226.000000     214.000000"
            ]
          },
          "metadata": {},
          "execution_count": 18
        }
      ]
    },
    {
      "cell_type": "markdown",
      "metadata": {
        "id": "BbYFUrEFgA5l"
      },
      "source": [
        "###**Initial findings summary**\n",
        "I have rejected the following initial hypotheses:\n",
        "I thought that the country with the most medals was Poland. However, after carefully analyzing the data, I discovered that it was USA.\n",
        "I also thought that CR7 had won a gold medal, but it is not true.\n",
        "\n",
        "The next thing I am planning to do is analyze my data extensively to validate my hypotheses. For this I will use descriptive statistics techniques such as: tables, graphs, measures of central tendency, dispersion, etc.\n",
        "\n",
        "Additionally I will build a machine learning model to predict which medals will be won the most in future events of the olympic games\n",
        "\n",
        "##5. **Deeper Analysis**\n",
        "\n",
        "###**How many Peruvians won a gold medal?**\n",
        "Only one Peruvian has won a gold medal"
      ]
    },
    {
      "cell_type": "code",
      "metadata": {
        "colab": {
          "base_uri": "https://localhost:8080/",
          "height": 81
        },
        "id": "AZZlHmmZhrIx",
        "outputId": "d02d7b6b-2412-4240-b264-e94d35b1f73d"
      },
      "source": [
        "pd.read_sql('''SELECT * FROM athletes where NOC='PER' and Medal='Gold' ''', conn)"
      ],
      "execution_count": 20,
      "outputs": [
        {
          "output_type": "execute_result",
          "data": {
            "text/html": [
              "<div>\n",
              "<style scoped>\n",
              "    .dataframe tbody tr th:only-of-type {\n",
              "        vertical-align: middle;\n",
              "    }\n",
              "\n",
              "    .dataframe tbody tr th {\n",
              "        vertical-align: top;\n",
              "    }\n",
              "\n",
              "    .dataframe thead th {\n",
              "        text-align: right;\n",
              "    }\n",
              "</style>\n",
              "<table border=\"1\" class=\"dataframe\">\n",
              "  <thead>\n",
              "    <tr style=\"text-align: right;\">\n",
              "      <th></th>\n",
              "      <th>ID</th>\n",
              "      <th>Name</th>\n",
              "      <th>Sex</th>\n",
              "      <th>Age</th>\n",
              "      <th>Height</th>\n",
              "      <th>Weight</th>\n",
              "      <th>Team</th>\n",
              "      <th>NOC</th>\n",
              "      <th>Games</th>\n",
              "      <th>Year</th>\n",
              "      <th>Season</th>\n",
              "      <th>City</th>\n",
              "      <th>Sport</th>\n",
              "      <th>Event</th>\n",
              "      <th>Medal</th>\n",
              "    </tr>\n",
              "  </thead>\n",
              "  <tbody>\n",
              "    <tr>\n",
              "      <th>0</th>\n",
              "      <td>125468</td>\n",
              "      <td>Edwin Gonzalo Vsquez Cam</td>\n",
              "      <td>M</td>\n",
              "      <td>25.0</td>\n",
              "      <td>None</td>\n",
              "      <td>None</td>\n",
              "      <td>Peru</td>\n",
              "      <td>PER</td>\n",
              "      <td>1948 Summer</td>\n",
              "      <td>1948</td>\n",
              "      <td>Summer</td>\n",
              "      <td>London</td>\n",
              "      <td>Shooting</td>\n",
              "      <td>Shooting Men's Free Pistol, 50 metres</td>\n",
              "      <td>Gold</td>\n",
              "    </tr>\n",
              "  </tbody>\n",
              "</table>\n",
              "</div>"
            ],
            "text/plain": [
              "       ID  ... Medal\n",
              "0  125468  ...  Gold\n",
              "\n",
              "[1 rows x 15 columns]"
            ]
          },
          "metadata": {},
          "execution_count": 20
        }
      ]
    },
    {
      "cell_type": "markdown",
      "metadata": {
        "id": "jryFYNfVixzO"
      },
      "source": [
        "###**Has Cristiano Ronaldo (CR7) won any medals?**\n",
        "No, CR7 has not won a gold medal at the olympic games"
      ]
    },
    {
      "cell_type": "code",
      "metadata": {
        "colab": {
          "base_uri": "https://localhost:8080/",
          "height": 81
        },
        "id": "q4YRV2XajDfO",
        "outputId": "9ad56609-094e-4a41-8488-053f37097f52"
      },
      "source": [
        "pd.read_sql('''SELECT * FROM athletes where NOC='POR' and Name like '%cristiano%' ''', conn)"
      ],
      "execution_count": 21,
      "outputs": [
        {
          "output_type": "execute_result",
          "data": {
            "text/html": [
              "<div>\n",
              "<style scoped>\n",
              "    .dataframe tbody tr th:only-of-type {\n",
              "        vertical-align: middle;\n",
              "    }\n",
              "\n",
              "    .dataframe tbody tr th {\n",
              "        vertical-align: top;\n",
              "    }\n",
              "\n",
              "    .dataframe thead th {\n",
              "        text-align: right;\n",
              "    }\n",
              "</style>\n",
              "<table border=\"1\" class=\"dataframe\">\n",
              "  <thead>\n",
              "    <tr style=\"text-align: right;\">\n",
              "      <th></th>\n",
              "      <th>ID</th>\n",
              "      <th>Name</th>\n",
              "      <th>Sex</th>\n",
              "      <th>Age</th>\n",
              "      <th>Height</th>\n",
              "      <th>Weight</th>\n",
              "      <th>Team</th>\n",
              "      <th>NOC</th>\n",
              "      <th>Games</th>\n",
              "      <th>Year</th>\n",
              "      <th>Season</th>\n",
              "      <th>City</th>\n",
              "      <th>Sport</th>\n",
              "      <th>Event</th>\n",
              "      <th>Medal</th>\n",
              "    </tr>\n",
              "  </thead>\n",
              "  <tbody>\n",
              "    <tr>\n",
              "      <th>0</th>\n",
              "      <td>23835</td>\n",
              "      <td>Cristiano Ronaldo dos Santos Aveiro</td>\n",
              "      <td>M</td>\n",
              "      <td>19.0</td>\n",
              "      <td>186.0</td>\n",
              "      <td>80.0</td>\n",
              "      <td>Portugal</td>\n",
              "      <td>POR</td>\n",
              "      <td>2004 Summer</td>\n",
              "      <td>2004</td>\n",
              "      <td>Summer</td>\n",
              "      <td>Athina</td>\n",
              "      <td>Football</td>\n",
              "      <td>Football Men's Football</td>\n",
              "      <td>None</td>\n",
              "    </tr>\n",
              "  </tbody>\n",
              "</table>\n",
              "</div>"
            ],
            "text/plain": [
              "      ID                                 Name  ...                    Event  Medal\n",
              "0  23835  Cristiano Ronaldo dos Santos Aveiro  ...  Football Men's Football   None\n",
              "\n",
              "[1 rows x 15 columns]"
            ]
          },
          "metadata": {},
          "execution_count": 21
        }
      ]
    },
    {
      "cell_type": "markdown",
      "metadata": {
        "id": "H0VeYzOgjaxy"
      },
      "source": [
        "###**Which sporting event gathered the most athletes?**\n",
        "Football has more athletes"
      ]
    },
    {
      "cell_type": "code",
      "metadata": {
        "colab": {
          "base_uri": "https://localhost:8080/",
          "height": 470
        },
        "id": "uK4wvTzEj2rK",
        "outputId": "c817128e-8193-4948-9dbb-2d0a32277d63"
      },
      "source": [
        "import matplotlib.pyplot as plt\n",
        "athletes_by_event=pd.read_sql('''\n",
        "              SELECT \n",
        "                Sport,\n",
        "                Event,\n",
        "                count(Id) as athletes_count\n",
        "              FROM athletes  group by Event \n",
        "              order by athletes_count desc limit 10 ''', conn)\n",
        "\n",
        "athletes_by_event_series={'Athletes':[]}\n",
        "columns=[]\n",
        "for row in athletes_by_event.iterrows():\n",
        "  sport=row[1]['Sport']\n",
        "  columns.append(sport)\n",
        "  athletes_by_event_series['Athletes'].append(row[1]['athletes_count'])\n",
        "\n",
        "plotdata = pd.DataFrame(athletes_by_event_series, \n",
        "    index=columns\n",
        ")\n",
        "plt.rcParams[\"figure.figsize\"] = (12,6)\n",
        "plotdata.plot(kind=\"bar\")\n",
        "plt.title(\"Athletes by Sport Event\")\n",
        "plt.xlabel(\"Sports\")\n",
        "plt.ylabel(\"Athletes Count\")\n"
      ],
      "execution_count": 29,
      "outputs": [
        {
          "output_type": "execute_result",
          "data": {
            "text/plain": [
              "Text(0, 0.5, 'Athletes Count')"
            ]
          },
          "metadata": {},
          "execution_count": 29
        },
        {
          "output_type": "display_data",
          "data": {
            "image/png": "[encoded data removed]",
            "text/plain": [
              "<Figure size 864x432 with 1 Axes>"
            ]
          },
          "metadata": {
            "needs_background": "light"
          }
        }
      ]
    },
    {
      "cell_type": "markdown",
      "metadata": {
        "id": "sVNtwXqAm4rT"
      },
      "source": [
        "###**In which year were the most gold medals awarded?**\n",
        "In 2008, more gold medals were awarded"
      ]
    },
    {
      "cell_type": "code",
      "metadata": {
        "colab": {
          "base_uri": "https://localhost:8080/",
          "height": 437
        },
        "id": "V9e6VMGgnr9Q",
        "outputId": "99b1388c-65be-4af6-ebd1-fece1ca30e05"
      },
      "source": [
        "medals_by_year=pd.read_sql(\"\"\"\n",
        "select \n",
        "a.Year,\n",
        "(select count(Id) from athletes where  Medal='Gold' and Year=a.Year) as Gold_medals,\n",
        "(select count(Id) from athletes where  Medal='Silver' and Year=a.Year) as Silver_medals,\n",
        "(select count(Id) from athletes where  Medal='Bronze' and Year=a.Year) as Bronze_medals,\n",
        "count(Medal) as Medal_count\n",
        "from athletes as a\n",
        "where a.Medal is not null\n",
        "group by a.Year\n",
        "order by Medal_count desc\n",
        "limit 10\n",
        "\"\"\",conn)\n",
        "series={'golds':[],'silvers':[],'bronzes':[]}\n",
        "columns=[]\n",
        "for row in medals_by_year.iterrows():\n",
        "  year=row[1]['Year']\n",
        "  columns.append(year)\n",
        "  series['golds'].append(row[1]['Gold_medals'])\n",
        "  series['silvers'].append(row[1]['Silver_medals'])\n",
        "  series['bronzes'].append(row[1]['Bronze_medals'])\n",
        "\n",
        "plotdata = pd.DataFrame(series, \n",
        "    index=columns\n",
        ")\n",
        "plt.rcParams[\"figure.figsize\"] = (12,6)\n",
        "plotdata.plot(kind=\"bar\")\n",
        "plt.title(\"Medals by Year\")\n",
        "plt.xlabel(\"Year\")\n",
        "plt.ylabel(\"Medals\")"
      ],
      "execution_count": 30,
      "outputs": [
        {
          "output_type": "execute_result",
          "data": {
            "text/plain": [
              "Text(0, 0.5, 'Medals')"
            ]
          },
          "metadata": {},
          "execution_count": 30
        },
        {
          "output_type": "display_data",
          "data": {
            "image/png": "[encoded data removed]",
            "text/plain": [
              "<Figure size 864x432 with 1 Axes>"
            ]
          },
          "metadata": {
            "needs_background": "light"
          }
        }
      ]
    },
    {
      "cell_type": "markdown",
      "metadata": {
        "id": "TsGSIsrtpIQz"
      },
      "source": [
        "###**In the 120 years of the Olympic Games, which country's team won the most medals?**\n",
        "USA has more medals"
      ]
    },
    {
      "cell_type": "code",
      "metadata": {
        "colab": {
          "base_uri": "https://localhost:8080/",
          "height": 457
        },
        "id": "98cJyjokqCHY",
        "outputId": "14379773-314c-4c21-9129-ed3fea46683b"
      },
      "source": [
        "sql_update_query = \"\"\"update regions set NOC='RUS' where NOC='URS'\"\"\"\n",
        "cursor.execute(sql_update_query)\n",
        "conn.commit()\n",
        "\n",
        "sql_update_query = \"\"\"update athletes set NOC='RUS' where NOC='URS'\"\"\"\n",
        "cursor.execute(sql_update_query)\n",
        "conn.commit()\n",
        "\n",
        "medals_by_country=pd.read_sql(\"\"\"\n",
        "select \n",
        "a.NOC,\n",
        "r.region,\n",
        "(select count(Id) from athletes where  Medal='Gold' and NOC=a.NOC) as Gold_medals,\n",
        "(select count(Id) from athletes where  Medal='Silver' and NOC=a.NOC) as Silver_medals,\n",
        "(select count(Id) from athletes where  Medal='Bronze' and NOC=a.NOC) as Bronze_medals,\n",
        "((select count(Id) from athletes where  Medal='Gold' and NOC=a.NOC)+\n",
        "(select count(Id) from athletes where  Medal='Silver' and NOC=a.NOC)+\n",
        "(select count(Id) from athletes where  Medal='Bronze' and NOC=a.NOC))as Medals\n",
        "from athletes as a\n",
        "left join regions as r on r.NOC=a.NOC\n",
        "where a.Medal in ('Gold','Silver','Bronze')\n",
        "group by a.NOC\n",
        "order by Medals desc\n",
        "limit 10\n",
        "\"\"\",conn)\n",
        "\n",
        "series={'golds':[],'silvers':[],'bronzes':[]}\n",
        "columns=[]\n",
        "for row in medals_by_country.iterrows():\n",
        "  region=row[1]['region']\n",
        "  columns.append(region)\n",
        "  series['golds'].append(row[1]['Gold_medals'])\n",
        "  series['silvers'].append(row[1]['Silver_medals'])\n",
        "  series['bronzes'].append(row[1]['Bronze_medals'])\n",
        "\n",
        "plotdata = pd.DataFrame(series, \n",
        "    index=columns\n",
        ")\n",
        "plt.rcParams[\"figure.figsize\"] = (12,6)\n",
        "plotdata.plot(kind=\"bar\")\n",
        "plt.title(\"Medals by Country\")\n",
        "plt.xlabel(\"Country\")\n",
        "plt.ylabel(\"Medals\")"
      ],
      "execution_count": 33,
      "outputs": [
        {
          "output_type": "execute_result",
          "data": {
            "text/plain": [
              "Text(0, 0.5, 'Medals')"
            ]
          },
          "metadata": {},
          "execution_count": 33
        },
        {
          "output_type": "display_data",
          "data": {
            "image/png": "[encoded data removed]",
            "text/plain": [
              "<Figure size 864x432 with 1 Axes>"
            ]
          },
          "metadata": {
            "needs_background": "light"
          }
        }
      ]
    },
    {
      "cell_type": "markdown",
      "metadata": {
        "id": "Z1TVFAUFt22f"
      },
      "source": [
        "###**Are there more men or women who have won a gold medal?**\n",
        "Like I said, there are more men with gold medals"
      ]
    },
    {
      "cell_type": "code",
      "metadata": {
        "colab": {
          "base_uri": "https://localhost:8080/",
          "height": 112
        },
        "id": "E5nIYf5wT4X_",
        "outputId": "4f08e201-d32b-4b84-c338-54ddff21564a"
      },
      "source": [
        "pd.read_sql(\"\"\"\n",
        "select \n",
        "count(*) as medals,\n",
        "'M' as gender \n",
        "from athletes \n",
        "where Medal='Gold' \n",
        "and Sex='M'\n",
        "union \n",
        "select \n",
        "count(*) as medals,\n",
        "'F' as gender \n",
        "from athletes \n",
        "where Medal='Gold' \n",
        "and Sex='F' \"\"\",conn)\n"
      ],
      "execution_count": 35,
      "outputs": [
        {
          "output_type": "execute_result",
          "data": {
            "text/html": [
              "<div>\n",
              "<style scoped>\n",
              "    .dataframe tbody tr th:only-of-type {\n",
              "        vertical-align: middle;\n",
              "    }\n",
              "\n",
              "    .dataframe tbody tr th {\n",
              "        vertical-align: top;\n",
              "    }\n",
              "\n",
              "    .dataframe thead th {\n",
              "        text-align: right;\n",
              "    }\n",
              "</style>\n",
              "<table border=\"1\" class=\"dataframe\">\n",
              "  <thead>\n",
              "    <tr style=\"text-align: right;\">\n",
              "      <th></th>\n",
              "      <th>medals</th>\n",
              "      <th>gender</th>\n",
              "    </tr>\n",
              "  </thead>\n",
              "  <tbody>\n",
              "    <tr>\n",
              "      <th>0</th>\n",
              "      <td>3747</td>\n",
              "      <td>F</td>\n",
              "    </tr>\n",
              "    <tr>\n",
              "      <th>1</th>\n",
              "      <td>9625</td>\n",
              "      <td>M</td>\n",
              "    </tr>\n",
              "  </tbody>\n",
              "</table>\n",
              "</div>"
            ],
            "text/plain": [
              "   medals gender\n",
              "0    3747      F\n",
              "1    9625      M"
            ]
          },
          "metadata": {},
          "execution_count": 35
        }
      ]
    },
    {
      "cell_type": "markdown",
      "metadata": {
        "id": "NwI2rPTXW-ok"
      },
      "source": [
        "###**If the dataset only has events up to the year 2016, how do you predict which medal a new athlete will win?**\n",
        "\n",
        "To answer this question I will use Logistic Regression. I will create a model that can predict whether an athlete will win a gold, silver or bronze medal.\n",
        "\n",
        "####**[Logistic Regression](https://scikit-learn.org/stable/modules/generated/sklearn.linear_model.LogisticRegression.html)** \n",
        "Logistic Regression is a Supervised Algorithm and is used for classification.\n",
        "\n",
        "I will use these 4 columns:\n",
        "- Age\n",
        "- Height\n",
        "- Weight\n",
        "- Medal (Gold: 1, Silver: 2, Bronze: 3, None: 4)\n",
        "\n",
        "A sample must be drawn from each type of medal so that the model can predict well"
      ]
    },
    {
      "cell_type": "code",
      "metadata": {
        "colab": {
          "base_uri": "https://localhost:8080/",
          "height": 300
        },
        "id": "TbZcW7Amh_jc",
        "outputId": "97973f1b-98a0-47d4-c23a-f49ca6441ad6"
      },
      "source": [
        "length=20000\n",
        "golds=pd.read_sql(\"\"\"\n",
        "select \n",
        "(case Sex when 'M' then 1 else 0 end) as Sex,\n",
        "Year,\n",
        "round(Age,0) as Age,\n",
        "round(Height,0) as Height,\n",
        "round(Weight,0) as Weight,\n",
        "1 as Medal \n",
        "from athletes\n",
        "where Age is not null\n",
        "and Height is not null\n",
        "and Weight is not null\n",
        "and Medal='Gold'\n",
        "ORDER BY RANDOM() \n",
        "limit {}\n",
        "\"\"\".format(length),conn)\n",
        "\n",
        "silvers=pd.read_sql(\"\"\"\n",
        "select \n",
        "(case Sex when 'M' then 1 else 0 end) as Sex,\n",
        "Year,\n",
        "round(Age,0) as Age,\n",
        "round(Height,0) as Height,\n",
        "round(Weight,0) as Weight,\n",
        "2 as Medal \n",
        "from athletes\n",
        "where Age is not null\n",
        "and Height is not null\n",
        "and Weight is not null\n",
        "and Medal='Silver'\n",
        "ORDER BY RANDOM() \n",
        "limit {}\n",
        "\"\"\".format(length),conn)\n",
        "\n",
        "bronzes=pd.read_sql(\"\"\"\n",
        "select \n",
        "(case Sex when 'M' then 1 else 0 end) as Sex,\n",
        "Year,\n",
        "round(Age,0) as Age,\n",
        "round(Height,0) as Height,\n",
        "round(Weight,0) as Weight,\n",
        "3 as Medal \n",
        "from athletes\n",
        "where Age is not null\n",
        "and Height is not null\n",
        "and Weight is not null\n",
        "and Medal='Bronze'\n",
        "ORDER BY RANDOM() \n",
        "limit {}\n",
        "\"\"\".format(length),conn)\n",
        "\n",
        "no_medals=pd.read_sql(\"\"\"\n",
        "select \n",
        "(case Sex when 'M' then 1 else 0 end) as Sex,\n",
        "Year,\n",
        "round(Age,0) as Age,\n",
        "round(Height,0) as Height,\n",
        "round(Weight,0) as Weight,\n",
        "4 as Medal \n",
        "from athletes\n",
        "where Age is not null\n",
        "and Height is not null\n",
        "and Weight is not null\n",
        "and Medal is null\n",
        "ORDER BY RANDOM() \n",
        "limit 1000\n",
        "\"\"\",conn)\n",
        "data_train=pd.concat([golds,silvers,bronzes,no_medals])\n",
        "#data_train[['Age', 'Height', 'Weight','Medal']] = data_train[['Age', 'Height', 'Weight','Medal']].astype(int)\n",
        "#print(data_train.dtypes)\n",
        "data_train.describe()"
      ],
      "execution_count": 283,
      "outputs": [
        {
          "output_type": "execute_result",
          "data": {
            "text/html": [
              "<div>\n",
              "<style scoped>\n",
              "    .dataframe tbody tr th:only-of-type {\n",
              "        vertical-align: middle;\n",
              "    }\n",
              "\n",
              "    .dataframe tbody tr th {\n",
              "        vertical-align: top;\n",
              "    }\n",
              "\n",
              "    .dataframe thead th {\n",
              "        text-align: right;\n",
              "    }\n",
              "</style>\n",
              "<table border=\"1\" class=\"dataframe\">\n",
              "  <thead>\n",
              "    <tr style=\"text-align: right;\">\n",
              "      <th></th>\n",
              "      <th>Sex</th>\n",
              "      <th>Year</th>\n",
              "      <th>Age</th>\n",
              "      <th>Height</th>\n",
              "      <th>Weight</th>\n",
              "      <th>Medal</th>\n",
              "    </tr>\n",
              "  </thead>\n",
              "  <tbody>\n",
              "    <tr>\n",
              "      <th>count</th>\n",
              "      <td>31181.000000</td>\n",
              "      <td>31181.000000</td>\n",
              "      <td>31181.000000</td>\n",
              "      <td>31181.000000</td>\n",
              "      <td>31181.000000</td>\n",
              "      <td>31181.000000</td>\n",
              "    </tr>\n",
              "    <tr>\n",
              "      <th>mean</th>\n",
              "      <td>0.657804</td>\n",
              "      <td>1988.079728</td>\n",
              "      <td>25.421346</td>\n",
              "      <td>177.543472</td>\n",
              "      <td>73.610660</td>\n",
              "      <td>2.063532</td>\n",
              "    </tr>\n",
              "    <tr>\n",
              "      <th>std</th>\n",
              "      <td>0.474452</td>\n",
              "      <td>22.605889</td>\n",
              "      <td>5.063511</td>\n",
              "      <td>10.930702</td>\n",
              "      <td>14.998293</td>\n",
              "      <td>0.880790</td>\n",
              "    </tr>\n",
              "    <tr>\n",
              "      <th>min</th>\n",
              "      <td>0.000000</td>\n",
              "      <td>1896.000000</td>\n",
              "      <td>13.000000</td>\n",
              "      <td>136.000000</td>\n",
              "      <td>28.000000</td>\n",
              "      <td>1.000000</td>\n",
              "    </tr>\n",
              "    <tr>\n",
              "      <th>25%</th>\n",
              "      <td>0.000000</td>\n",
              "      <td>1976.000000</td>\n",
              "      <td>22.000000</td>\n",
              "      <td>170.000000</td>\n",
              "      <td>63.000000</td>\n",
              "      <td>1.000000</td>\n",
              "    </tr>\n",
              "    <tr>\n",
              "      <th>50%</th>\n",
              "      <td>1.000000</td>\n",
              "      <td>1992.000000</td>\n",
              "      <td>25.000000</td>\n",
              "      <td>178.000000</td>\n",
              "      <td>73.000000</td>\n",
              "      <td>2.000000</td>\n",
              "    </tr>\n",
              "    <tr>\n",
              "      <th>75%</th>\n",
              "      <td>1.000000</td>\n",
              "      <td>2006.000000</td>\n",
              "      <td>28.000000</td>\n",
              "      <td>185.000000</td>\n",
              "      <td>83.000000</td>\n",
              "      <td>3.000000</td>\n",
              "    </tr>\n",
              "    <tr>\n",
              "      <th>max</th>\n",
              "      <td>1.000000</td>\n",
              "      <td>2016.000000</td>\n",
              "      <td>66.000000</td>\n",
              "      <td>223.000000</td>\n",
              "      <td>182.000000</td>\n",
              "      <td>4.000000</td>\n",
              "    </tr>\n",
              "  </tbody>\n",
              "</table>\n",
              "</div>"
            ],
            "text/plain": [
              "                Sex          Year  ...        Weight         Medal\n",
              "count  31181.000000  31181.000000  ...  31181.000000  31181.000000\n",
              "mean       0.657804   1988.079728  ...     73.610660      2.063532\n",
              "std        0.474452     22.605889  ...     14.998293      0.880790\n",
              "min        0.000000   1896.000000  ...     28.000000      1.000000\n",
              "25%        0.000000   1976.000000  ...     63.000000      1.000000\n",
              "50%        1.000000   1992.000000  ...     73.000000      2.000000\n",
              "75%        1.000000   2006.000000  ...     83.000000      3.000000\n",
              "max        1.000000   2016.000000  ...    182.000000      4.000000\n",
              "\n",
              "[8 rows x 6 columns]"
            ]
          },
          "metadata": {},
          "execution_count": 283
        }
      ]
    },
    {
      "cell_type": "markdown",
      "metadata": {
        "id": "p9F0G2xGlnkI"
      },
      "source": [
        "Then we will analyze how many results we have of each type using the groupby function\n",
        "\n",
        "\n"
      ]
    },
    {
      "cell_type": "code",
      "metadata": {
        "colab": {
          "base_uri": "https://localhost:8080/"
        },
        "id": "rdYRRitLlaf9",
        "outputId": "9145505c-bbb9-449d-9408-c6f4c3c71a25"
      },
      "source": [
        "print(data_train.groupby('Medal').size())"
      ],
      "execution_count": 284,
      "outputs": [
        {
          "output_type": "stream",
          "name": "stdout",
          "text": [
            "Medal\n",
            "1    10167\n",
            "2     9866\n",
            "3    10148\n",
            "4     1000\n",
            "dtype: int64\n"
          ]
        }
      ]
    },
    {
      "cell_type": "markdown",
      "metadata": {
        "id": "fn_Pb6oHl-oI"
      },
      "source": [
        "####**Data visualization**\n",
        "Before starting to process the data set, I made some visualizations that can often help to better understand the characteristics of the information we are working with and their correlation.\n",
        "\n",
        "First I visualized in history format the four input Features with names \"Age\", \"Height\", \"Wight\" and \"Medal\". We can see graphically between which values ​​their minimums and maximums are understood and in which intervals they concentrate the greatest density of records. ."
      ]
    },
    {
      "cell_type": "code",
      "metadata": {
        "colab": {
          "base_uri": "https://localhost:8080/",
          "height": 297
        },
        "id": "h2gfWGfwl2-g",
        "outputId": "924924c7-dea8-4960-a5c7-0791c85e17f9"
      },
      "source": [
        "data_train.drop(['Medal'],1).hist()\n",
        "plt.tight_layout()\n",
        "plt.show()"
      ],
      "execution_count": 285,
      "outputs": [
        {
          "output_type": "display_data",
          "data": {
            "image/png": "[encoded data removed]",
            "text/plain": [
              "<Figure size 432x288 with 6 Axes>"
            ]
          },
          "metadata": {
            "needs_background": "light"
          }
        }
      ]
    },
    {
      "cell_type": "markdown",
      "metadata": {
        "id": "dd04JfG0nYSr"
      },
      "source": [
        "And we can also interrelate the inputs in pairs, to see how the outputs of medals by colors are linearly concentrated"
      ]
    },
    {
      "cell_type": "code",
      "metadata": {
        "id": "Y29HBaVilJm5",
        "colab": {
          "base_uri": "https://localhost:8080/",
          "height": 708
        },
        "outputId": "d10855d9-5c7e-46b0-981f-cf9496450f72"
      },
      "source": [
        "#import numpy as np\n",
        "from sklearn import linear_model\n",
        "from sklearn import model_selection\n",
        "from sklearn.metrics import classification_report\n",
        "from sklearn.metrics import confusion_matrix\n",
        "from sklearn.metrics import accuracy_score\n",
        "#import matplotlib.pyplot as plt\n",
        "import seaborn as sb\n",
        "%matplotlib inline\n",
        "df=data_train\n",
        "df.reset_index(inplace=True)\n",
        "sb.pairplot(df.dropna(), hue='Medal',size=3,vars=[\"Age\",\"Height\",\"Weight\"],kind='reg')"
      ],
      "execution_count": 299,
      "outputs": [
        {
          "output_type": "stream",
          "name": "stderr",
          "text": [
            "/usr/local/lib/python3.7/dist-packages/seaborn/axisgrid.py:2076: UserWarning: The `size` parameter has been renamed to `height`; please update your code.\n",
            "  warnings.warn(msg, UserWarning)\n"
          ]
        },
        {
          "output_type": "execute_result",
          "data": {
            "text/plain": [
              "<seaborn.axisgrid.PairGrid at 0x7f5a8e2e5d90>"
            ]
          },
          "metadata": {},
          "execution_count": 299
        },
        {
          "output_type": "display_data",
          "data": {
            "image/png": "[encoded data removed]",
            "text/plain": [
              "<Figure size 690.375x648 with 12 Axes>"
            ]
          },
          "metadata": {
            "needs_background": "light"
          }
        }
      ]
    },
    {
      "cell_type": "markdown",
      "metadata": {
        "id": "POkyQSfsoWfS"
      },
      "source": [
        "####**We create the Logistic Regression Model**\n",
        "Now we load the variables of the 4 input columns in X excluding the column \"Medal\" with the `drop()` method. Instead we add the column \"Medal\" in the variable y. We run X.shape to check the dimension of our matrix with input data of 4000 records by 3 columns."
      ]
    },
    {
      "cell_type": "code",
      "metadata": {
        "colab": {
          "base_uri": "https://localhost:8080/"
        },
        "id": "2allHQHyof69",
        "outputId": "58b8a1c1-51ea-434c-d367-61d16dd30cd5"
      },
      "source": [
        "X = np.array(data_train.drop(['Medal'],1))\n",
        "y = np.array(data_train['Medal'])\n",
        "X.shape"
      ],
      "execution_count": 287,
      "outputs": [
        {
          "output_type": "execute_result",
          "data": {
            "text/plain": [
              "(31181, 5)"
            ]
          },
          "metadata": {},
          "execution_count": 287
        }
      ]
    },
    {
      "cell_type": "markdown",
      "metadata": {
        "id": "28j-TBUR452S"
      },
      "source": [
        "And we create our model and make it fit (fit) to our set of inputs X and outputs 'y'"
      ]
    },
    {
      "cell_type": "code",
      "metadata": {
        "colab": {
          "base_uri": "https://localhost:8080/"
        },
        "id": "iTG1u9ol490Y",
        "outputId": "4a968e7c-e627-409e-f1da-196b6bbcde10"
      },
      "source": [
        "model = linear_model.LogisticRegression(max_iter=1000*1000,penalty='none')\n",
        "#model = linear_model.LogisticRegression()\n",
        "model.fit(X,y)"
      ],
      "execution_count": 288,
      "outputs": [
        {
          "output_type": "execute_result",
          "data": {
            "text/plain": [
              "LogisticRegression(max_iter=1000000, penalty='none')"
            ]
          },
          "metadata": {},
          "execution_count": 288
        }
      ]
    },
    {
      "cell_type": "markdown",
      "metadata": {
        "id": "Jjo21YZP5Zj1"
      },
      "source": [
        "Once our model is compiled, we make it classify our entire set of X inputs using the \"predict (X)\" method and we review some of its outputs and see that it matches the actual outputs of the data."
      ]
    },
    {
      "cell_type": "code",
      "metadata": {
        "colab": {
          "base_uri": "https://localhost:8080/"
        },
        "id": "lxww-HRk5iGZ",
        "outputId": "dc9cd312-e1b7-49d4-a1b4-b7851a120ff9"
      },
      "source": [
        "predictions = model.predict(X)\n",
        "print(predictions[0:5])"
      ],
      "execution_count": 289,
      "outputs": [
        {
          "output_type": "stream",
          "name": "stdout",
          "text": [
            "[1 3 3 3 3]\n"
          ]
        }
      ]
    },
    {
      "cell_type": "markdown",
      "metadata": {
        "id": "f9GNaaCz6qWI"
      },
      "source": [
        "And we confirm how good our model was using model.score () which returns the average precision of the predictions, in our case 34%."
      ]
    },
    {
      "cell_type": "code",
      "metadata": {
        "colab": {
          "base_uri": "https://localhost:8080/"
        },
        "id": "xqaK2vAT6uRH",
        "outputId": "cab758e3-dffa-4b2d-b9bf-64507e5de115"
      },
      "source": [
        "model.score(X,y)"
      ],
      "execution_count": 290,
      "outputs": [
        {
          "output_type": "execute_result",
          "data": {
            "text/plain": [
              "0.3370963086494981"
            ]
          },
          "metadata": {},
          "execution_count": 290
        }
      ]
    },
    {
      "cell_type": "markdown",
      "metadata": {
        "id": "7u46eJtb7thC"
      },
      "source": [
        "####**Validation of our model**\n",
        "A good practice in Machine Learning is to subdivide our input data set into a training set and another to validate the model (which is not used during training and therefore the machine is unknown). This will avoid problems in which our algorithm can fail by \"overgeneralizing\" the knowledge.\n",
        "\n",
        "To do this, we subdivide our input data randomly (mixed) using 80% of records for training and 20% for validation."
      ]
    },
    {
      "cell_type": "code",
      "metadata": {
        "id": "HO4do7tA8IAu"
      },
      "source": [
        "validation_size = 0.20\n",
        "seed = 457\n",
        "X_train, X_validation, Y_train, Y_validation = model_selection.train_test_split(X,y, test_size=validation_size, random_state=seed)"
      ],
      "execution_count": 291,
      "outputs": []
    },
    {
      "cell_type": "markdown",
      "metadata": {
        "id": "G_Mmte2v8Pj-"
      },
      "source": [
        "We recompile our Logistic Regression model but this time with only 80% of the input data and we calculate the new scoring that now gives us 34%."
      ]
    },
    {
      "cell_type": "code",
      "metadata": {
        "colab": {
          "base_uri": "https://localhost:8080/"
        },
        "id": "BgQA7mDe8Sxx",
        "outputId": "a8e28044-8dbd-4c21-9426-b26a60df9eef"
      },
      "source": [
        "name='Logistic Regression'\n",
        "#kfold = model_selection.KFold(n_splits=3, random_state=seed,shuffle=True)\n",
        "kfold = model_selection.KFold(random_state=848, shuffle=True)\n",
        "cv_results = model_selection.cross_val_score(model, X_train, Y_train, cv=kfold, scoring='accuracy')\n",
        "msg = \"%s: %f (%f)\" % (name, cv_results.mean(), cv_results.std())\n",
        "print(msg)"
      ],
      "execution_count": 292,
      "outputs": [
        {
          "output_type": "stream",
          "name": "stdout",
          "text": [
            "Logistic Regression: 0.335031 (0.004490)\n"
          ]
        }
      ]
    },
    {
      "cell_type": "markdown",
      "metadata": {
        "id": "gbr7YijY-rPw"
      },
      "source": [
        "And now we make the predictions - actually classification - using our \"cross validation set\", that is, the subset that we had set aside. In this case we see that the hits were 34%."
      ]
    },
    {
      "cell_type": "code",
      "metadata": {
        "colab": {
          "base_uri": "https://localhost:8080/"
        },
        "id": "krROJwuV-yEo",
        "outputId": "7d470ba6-265c-4e1f-d194-208ea2f67ea1"
      },
      "source": [
        "predictions = model.predict(X_validation)\n",
        "print(accuracy_score(Y_validation, predictions))"
      ],
      "execution_count": 293,
      "outputs": [
        {
          "output_type": "stream",
          "name": "stdout",
          "text": [
            "0.33702100368767035\n"
          ]
        }
      ]
    },
    {
      "cell_type": "markdown",
      "metadata": {
        "id": "vR44STtP_lw3"
      },
      "source": [
        "####**Classification (or prediction) of new values ​​**"
      ]
    },
    {
      "cell_type": "code",
      "metadata": {
        "colab": {
          "base_uri": "https://localhost:8080/"
        },
        "id": "w4_3j2iJ_rkE",
        "outputId": "8a1ca84d-aad7-41ab-fd3a-aa78da88ec26"
      },
      "source": [
        "data_test=pd.read_sql(\"\"\"select\n",
        "(case Sex when 'M' then 1 else 0 end) as Sex,\n",
        "Year,\n",
        "Age,\n",
        "Height,\n",
        "Weight,\n",
        "(case Medal when 'Gold' then 1 when 'Silver' then 2  when 'Bronze' then 3 else 4 end) as Medal \n",
        "from athletes\n",
        "where \n",
        " Age is not null\n",
        "and Height is not null\n",
        "and Weight is not null\n",
        "limit 10112,1\n",
        "\"\"\",conn)\n",
        "#data_test.describe()\n",
        "print(data_test)\n",
        "model.predict(data_test.drop(['Medal'],1))"
      ],
      "execution_count": 297,
      "outputs": [
        {
          "output_type": "stream",
          "name": "stdout",
          "text": [
            "   Sex  Year   Age  Height  Weight  Medal\n",
            "0    0  1992  27.0   157.0    51.0      3\n"
          ]
        },
        {
          "output_type": "stream",
          "name": "stderr",
          "text": [
            "/usr/local/lib/python3.7/dist-packages/sklearn/base.py:439: UserWarning: X has feature names, but LogisticRegression was fitted without feature names\n",
            "  f\"X has feature names, but {self.__class__.__name__} was fitted without\"\n"
          ]
        },
        {
          "output_type": "execute_result",
          "data": {
            "text/plain": [
              "array([3])"
            ]
          },
          "metadata": {},
          "execution_count": 297
        }
      ]
    },
    {
      "cell_type": "markdown",
      "metadata": {
        "id": "aLW3oyPiUVPV"
      },
      "source": [
        "####**Experiment**"
      ]
    },
    {
      "cell_type": "code",
      "metadata": {
        "colab": {
          "base_uri": "https://localhost:8080/"
        },
        "id": "T-Vq8-z9Ud0b",
        "outputId": "8d8631bc-5920-4827-90f2-de39eead4bec"
      },
      "source": [
        "new_data=pd.DataFrame({'Sex':[0],'Year':[2021],'Age':[28],'Height':[190],'Weight':[50]})\n",
        "print(new_data)\n",
        "model.predict(new_data)"
      ],
      "execution_count": 298,
      "outputs": [
        {
          "output_type": "stream",
          "name": "stdout",
          "text": [
            "   Sex  Year  Age  Height  Weight\n",
            "0    0  2021   28     190      50\n"
          ]
        },
        {
          "output_type": "stream",
          "name": "stderr",
          "text": [
            "/usr/local/lib/python3.7/dist-packages/sklearn/base.py:439: UserWarning: X has feature names, but LogisticRegression was fitted without feature names\n",
            "  f\"X has feature names, but {self.__class__.__name__} was fitted without\"\n"
          ]
        },
        {
          "output_type": "execute_result",
          "data": {
            "text/plain": [
              "array([1])"
            ]
          },
          "metadata": {},
          "execution_count": 298
        }
      ]
    },
    {
      "cell_type": "markdown",
      "metadata": {
        "id": "q0EWoHYCTHZp"
      },
      "source": [
        "##**6. Hypotheses Results**\n",
        "\n",
        "- **How many Peruvians won a gold\n",
        "medal?**\\\n",
        "Only one Peruvian has won a gold medal\n",
        "-  **Has Cristiano Ronaldo (CR7) won\n",
        "any medals?**\\\n",
        "No, CR7 has not won a gold medal at the olympic games\n",
        "\n",
        "-  **Which sporting event gathered\n",
        "the most athletes?**\\\n",
        "Football has more athletes\n",
        "-  **In which year were the most gold\n",
        "medals awarded?**\\\n",
        "In 2008, more gold medals were awarded\n",
        "\n",
        "-  **In the 120 years of the Olympic\n",
        "Games, which country's team won\n",
        "the most medals?**\\\n",
        "USA has more medals\n",
        "\n",
        "-  **Are there more men or women who have won a gold medal?**\\\n",
        "Like I said, there are more men with gold medals\n",
        "\n",
        "-  **If the dataset only has events up to the year 2016, how do you predict which medal a new athlete will win?**\\\n",
        "A machine learning model has been created to predict new data from training with existing data. It is observed that the model is capable of predicting when new values ​​are introduced"
      ]
    },
    {
      "cell_type": "markdown",
      "metadata": {
        "id": "kwaiexrTTZsM"
      },
      "source": [
        "##**7. Recommendations**\n",
        "Positive, linear and strong correlation between height and weight.\n",
        "The Weight variable is a significant predictor of the Height variable.\n",
        "The observed studies lack experimental design principles.\n",
        "Therefore, the findings on the data cannot infer causality.\n",
        "Observational studies can only infer correlation"
      ]
    }
  ]
}